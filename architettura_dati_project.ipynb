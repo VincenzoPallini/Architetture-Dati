{
  "nbformat": 4,
  "nbformat_minor": 0,
  "metadata": {
    "colab": {
      "provenance": [],
      "collapsed_sections": [
        "_oFLoyv3ZUzP",
        "L7X7BhptzHIV",
        "JDWjaRiO5jAc",
        "vLoFKUlMHFNG",
        "LVIxkxHyHKP6",
        "Bb0jmauoHX5_"
      ]
    },
    "kernelspec": {
      "name": "python3",
      "display_name": "Python 3"
    },
    "language_info": {
      "name": "python"
    }
  },
  "cells": [
    {
      "cell_type": "markdown",
      "source": [
        "# README BEFORE THE EXECUTION\n",
        "* Per la corretta esecuzione del codice è necessario caricare solo il dataset di partenza (Train.csv) nella root del progetto Colab (/content/Train.csv).\n",
        "* Verranno create 3 cartelle, le quali contengono i dataset utilizzati negli esperimenti e un file .txt che riassume i risultati ottenuti con i dataset."
      ],
      "metadata": {
        "id": "NL_qYYcFJTvp"
      }
    },
    {
      "cell_type": "markdown",
      "source": [
        "## Dependency del progetto\n",
        "Dichiaro tutte le dipendenze in una sezione sola"
      ],
      "metadata": {
        "id": "_oFLoyv3ZUzP"
      }
    },
    {
      "cell_type": "code",
      "execution_count": null,
      "metadata": {
        "colab": {
          "base_uri": "https://localhost:8080/"
        },
        "id": "JVWVzRCrxxfO",
        "outputId": "ccbce42c-b93c-49d9-e984-bd7ee0ab2297"
      },
      "outputs": [
        {
          "output_type": "stream",
          "name": "stdout",
          "text": [
            "Collecting h2o\n",
            "  Downloading h2o-3.46.0.3.tar.gz (265.3 MB)\n",
            "\u001b[2K     \u001b[90m━━━━━━━━━━━━━━━━━━━━━━━━━━━━━━━━━━━━━━━━\u001b[0m \u001b[32m265.3/265.3 MB\u001b[0m \u001b[31m2.2 MB/s\u001b[0m eta \u001b[36m0:00:00\u001b[0m\n",
            "\u001b[?25h  Preparing metadata (setup.py) ... \u001b[?25l\u001b[?25hdone\n",
            "Requirement already satisfied: requests in /usr/local/lib/python3.10/dist-packages (from h2o) (2.31.0)\n",
            "Requirement already satisfied: tabulate in /usr/local/lib/python3.10/dist-packages (from h2o) (0.9.0)\n",
            "Requirement already satisfied: charset-normalizer<4,>=2 in /usr/local/lib/python3.10/dist-packages (from requests->h2o) (3.3.2)\n",
            "Requirement already satisfied: idna<4,>=2.5 in /usr/local/lib/python3.10/dist-packages (from requests->h2o) (3.7)\n",
            "Requirement already satisfied: urllib3<3,>=1.21.1 in /usr/local/lib/python3.10/dist-packages (from requests->h2o) (2.0.7)\n",
            "Requirement already satisfied: certifi>=2017.4.17 in /usr/local/lib/python3.10/dist-packages (from requests->h2o) (2024.6.2)\n",
            "Building wheels for collected packages: h2o\n",
            "  Building wheel for h2o (setup.py) ... \u001b[?25l\u001b[?25hdone\n",
            "  Created wheel for h2o: filename=h2o-3.46.0.3-py2.py3-none-any.whl size=265365897 sha256=c22adafac00f487b2cc38c238f5dfce0b5a82f25bab00abc60d055fbbe948dbe\n",
            "  Stored in directory: /root/.cache/pip/wheels/c4/63/41/baa115b5255e1db3e2383bce4e2e6181746aac0b42264c242f\n",
            "Successfully built h2o\n",
            "Installing collected packages: h2o\n",
            "Successfully installed h2o-3.46.0.3\n"
          ]
        }
      ],
      "source": [
        "!pip install h2o"
      ]
    },
    {
      "cell_type": "code",
      "source": [
        "import numpy as np\n",
        "import pandas as pd\n",
        "from sklearn.preprocessing import LabelEncoder\n",
        "from sklearn.model_selection import train_test_split\n",
        "import h2o\n",
        "from h2o.automl import H2OAutoML"
      ],
      "metadata": {
        "id": "Sn8XK8K1x74j"
      },
      "execution_count": null,
      "outputs": []
    },
    {
      "cell_type": "markdown",
      "source": [
        "## Metodi utili alla fase di trasformazione del dataset\n",
        "* Trasformazione delle feature categoriche in numeriche\n",
        "* Contare il numero di outliers attraverso il metodo IQR\n",
        "* Contare il numero di valori nulli\n",
        "* Trovare tutti l'index di tutti i valori non outliers\n",
        "* Genare un numero di outliers/valori nulli attraverso una percentuale"
      ],
      "metadata": {
        "id": "L7X7BhptzHIV"
      }
    },
    {
      "cell_type": "code",
      "source": [
        "le = LabelEncoder()\n",
        "\n",
        "def transform_features(dataframe):\n",
        "    \"\"\"\n",
        "    Transform the features of the dataframe to numerical values\n",
        "    Args:\n",
        "        dataframe: given dataframe\n",
        "\n",
        "    Returns: new dataframe with transformed features\n",
        "    \"\"\"\n",
        "    for feature in dataframe.columns:\n",
        "        if dataframe[feature].dtype == 'object':\n",
        "            dataframe[feature] = le.fit_transform(dataframe[feature])\n",
        "\n",
        "\n",
        "def count_non_outliers(dataframe):\n",
        "    \"\"\"\n",
        "    Count the number of non-outliers for each feature in the dataframe using\n",
        "    the IQR method.\n",
        "\n",
        "    Args:\n",
        "        dataframe: given dataframe\n",
        "\n",
        "    Returns:\n",
        "        A dictionary with features as keys and counts of non-outliers as values\n",
        "    \"\"\"\n",
        "    non_outliers_count = {}\n",
        "\n",
        "    for feature in dataframe.columns:\n",
        "        if dataframe[feature].dtype != 'object':\n",
        "            Q1 = dataframe[feature].quantile(0.25)\n",
        "            Q3 = dataframe[feature].quantile(0.75)\n",
        "            IQR = Q3 - Q1\n",
        "            lower_bound = Q1 - 1.5 * IQR\n",
        "            upper_bound = Q3 + 1.5 * IQR\n",
        "\n",
        "            non_outliers = dataframe[(dataframe[feature] >= lower_bound) & (dataframe[feature] <= upper_bound)]\n",
        "            non_outliers_count[feature] = non_outliers.shape[0]\n",
        "\n",
        "    return non_outliers_count\n",
        "\n",
        "\n",
        "def count_outliers(dataframe):\n",
        "    \"\"\"\n",
        "    Count the number of outliers for each feature in the dataframe using the IQR method.\n",
        "\n",
        "    Args:\n",
        "        dataframe: given dataframe\n",
        "\n",
        "    Returns:\n",
        "        A dictionary with features as keys and counts of outliers as values,\n",
        "        and the total number of outliers.\n",
        "    \"\"\"\n",
        "    outliers_count = {}\n",
        "    total_outliers = 0\n",
        "\n",
        "    for feature in dataframe.columns:\n",
        "        if dataframe[feature].dtype != 'object':\n",
        "            Q1 = dataframe[feature].quantile(0.25)\n",
        "            Q3 = dataframe[feature].quantile(0.75)\n",
        "            IQR = Q3 - Q1\n",
        "            lower_bound = Q1 - 1.5 * IQR\n",
        "            upper_bound = Q3 + 1.5 * IQR\n",
        "\n",
        "            outliers = dataframe[(dataframe[feature] < lower_bound) | (dataframe[feature] > upper_bound)]\n",
        "            count = outliers.shape[0]\n",
        "            outliers_count[feature] = count\n",
        "            total_outliers += count\n",
        "\n",
        "    outliers_count['Total'] = total_outliers\n",
        "    return outliers_count\n",
        "\n",
        "\n",
        "def get_non_outliers_index_list(dataframe, feature):\n",
        "    \"\"\"\n",
        "    Get the list of indices for non-outliers in the dataframe based on IQR method.\n",
        "    Args:\n",
        "        dataframe: given dataframe\n",
        "        feature: feature to check for outliers\n",
        "\n",
        "    Returns: List of indices that are non-outliers\n",
        "    \"\"\"\n",
        "    Q1 = dataframe[feature].quantile(0.25)\n",
        "    Q3 = dataframe[feature].quantile(0.75)\n",
        "    IQR = Q3 - Q1\n",
        "    lower_bound = Q1 - 1.5 * IQR\n",
        "    upper_bound = Q3 + 1.5 * IQR\n",
        "\n",
        "    non_outliers = dataframe[(dataframe[feature] >= lower_bound) & (dataframe[feature] <= upper_bound)].index.tolist()\n",
        "    return non_outliers\n",
        "\n",
        "\n",
        "def generate_new_outliers(dataframe, feature, percentage):\n",
        "    \"\"\"\n",
        "    Insert new outliers in the dataframe (with a defined percentage).\n",
        "    Args:\n",
        "        dataframe: given dataframe\n",
        "        feature: feature to insert outliers\n",
        "        percentage: percentage of new outliers to insert\n",
        "\n",
        "    Returns: new dataframe with new outliers\n",
        "    \"\"\"\n",
        "    non_outliers = get_non_outliers_index_list(dataframe, feature)\n",
        "    num_new_outliers = int(len(non_outliers) * percentage)\n",
        "\n",
        "    if num_new_outliers == 0:\n",
        "        return dataframe\n",
        "\n",
        "    lower_bound, upper_bound = dataframe[feature].min(), dataframe[feature].max()\n",
        "\n",
        "    for _ in range(num_new_outliers):\n",
        "        index = np.random.choice(non_outliers, 1)[0]\n",
        "        is_lower_bound = np.random.choice([True, False])\n",
        "\n",
        "        if is_lower_bound:\n",
        "            outlier_value = np.random.uniform(low=lower_bound - 30 * (upper_bound - lower_bound), high=lower_bound)\n",
        "        else:\n",
        "            outlier_value = np.random.uniform(low=upper_bound, high=upper_bound + 30 * (upper_bound - lower_bound))\n",
        "\n",
        "        outlier_value = dataframe[feature].dtype.type(outlier_value)\n",
        "        dataframe.at[index, feature] = outlier_value\n",
        "        non_outliers.remove(index)  # Ensure the index is not chosen again\n",
        "\n",
        "    return dataframe\n",
        "\n",
        "\n",
        "def insert_outliers_with_percentage(dataframe, percentage):\n",
        "    \"\"\"\n",
        "    Insert outliers in the dataframe with a defined percentage.\n",
        "    Args:\n",
        "        dataframe: given dataframe\n",
        "        percentage: percentage of outliers to insert\n",
        "\n",
        "    Returns: new dataframe with new outliers\n",
        "    \"\"\"\n",
        "    new_df = dataframe.copy()\n",
        "    print(new_df.dtypes)\n",
        "    excluded_features = ['ID', 'Reached.on.Time_Y.N']\n",
        "\n",
        "    for feature in new_df.columns:\n",
        "        if feature not in excluded_features and np.issubdtype(new_df[feature].dtype, np.number):\n",
        "            new_df = generate_new_outliers(new_df, feature, percentage)\n",
        "    return new_df\n",
        "\n",
        "\n",
        "def generate_null_values(dataframe, feature, percentage):\n",
        "    \"\"\"\n",
        "    Insert null values in the dataframe (with a defined percentage) in non-outlier positions.\n",
        "    Args:\n",
        "        dataframe: given dataframe\n",
        "        feature: feature to insert null values\n",
        "        percentage: percentage of new null values to insert\n",
        "\n",
        "    Returns: new dataframe with new null values\n",
        "    \"\"\"\n",
        "    non_outliers = get_non_outliers_index_list(dataframe, feature)\n",
        "    num_new_null = int(len(non_outliers) * percentage)\n",
        "\n",
        "    if num_new_null == 0:\n",
        "        return dataframe\n",
        "\n",
        "    for _ in range(num_new_null):\n",
        "        index = np.random.choice(non_outliers)\n",
        "        while pd.isnull(dataframe.at[index, feature]):\n",
        "            index = np.random.choice(non_outliers)\n",
        "        dataframe.at[index, feature] = np.nan\n",
        "        non_outliers.remove(index)\n",
        "\n",
        "    return dataframe\n",
        "\n",
        "\n",
        "def insert_null_values_with_percentage(dataframe, percentage):\n",
        "    \"\"\"\n",
        "    Insert null values in the dataframe with a defined percentage.\n",
        "    Args:\n",
        "        dataframe: given dataframe\n",
        "        percentage: percentage of null values to insert\n",
        "\n",
        "    Returns: new dataframe with new null values\n",
        "    \"\"\"\n",
        "    new_df = dataframe.copy()\n",
        "    excluded_features = ['Reached.on.Time_Y.N']\n",
        "    for feature in new_df.columns:\n",
        "        if feature not in excluded_features and np.issubdtype(new_df[feature].dtype, np.number):\n",
        "            new_df = generate_null_values(new_df, feature, percentage)\n",
        "    return new_df\n",
        "\n",
        "\n",
        "def count_null_values(dataframe):\n",
        "    \"\"\"\n",
        "    Count the number of null values for each feature in the dataframe.\n",
        "    Args:\n",
        "        dataframe: given dataframe\n",
        "\n",
        "    Returns: A dictionary with features as keys and counts of null values as values\n",
        "    \"\"\"\n",
        "    null_values_count = {}\n",
        "    total_null = 0\n",
        "\n",
        "    for feature in dataframe.columns:\n",
        "        count = dataframe[feature].isnull().sum()\n",
        "        null_values_count[feature] = count\n",
        "        total_null += count\n",
        "    null_values_count['Total'] = total_null\n",
        "\n",
        "    return null_values_count"
      ],
      "metadata": {
        "id": "DoJYE07-yXFm"
      },
      "execution_count": null,
      "outputs": []
    },
    {
      "cell_type": "markdown",
      "source": [
        "Leggo il dataset di partenza, divido in train e test e lo esporto"
      ],
      "metadata": {
        "id": "7TzPuuci0JYl"
      }
    },
    {
      "cell_type": "code",
      "source": [
        "df = pd.read_csv('/content/Train.csv')\n",
        "train_df, test_df = train_test_split(df, test_size=0.2)\n",
        "test_df.to_csv('/content/Test.csv', index=False)\n",
        "\n",
        "transform_features(train_df)\n",
        "train_df.drop('ID', axis=1, inplace=True)"
      ],
      "metadata": {
        "id": "FrwwGAxzyaJV"
      },
      "execution_count": null,
      "outputs": []
    },
    {
      "cell_type": "markdown",
      "source": [
        "## Metodi per simulare gli esperimenti\n",
        "* Dataset con una % variabile di outliers\n",
        "* Dataset con una % variabile di valori nulli\n",
        "* Dataset con una % variabile di valori misti (nulli/outliers)"
      ],
      "metadata": {
        "id": "JDWjaRiO5jAc"
      }
    },
    {
      "cell_type": "code",
      "source": [
        "def create_dataset_with_outliers(percentage, datasets_path):\n",
        "  for p in percentage:\n",
        "    print(f\"Percentage of outliers: {p}\")\n",
        "    out_df = train_df.copy()\n",
        "    out_df = insert_outliers_with_percentage(out_df, p)\n",
        "    print(count_outliers(out_df))\n",
        "    out_df.to_csv(f'{datasets_path}/Train_{p}.csv', index=False)\n",
        "\n",
        "def create_dataset_with_null(percentage, datasets_path):\n",
        "  for p in percentage:\n",
        "    print(f\"Percentage of null values: {p}\")\n",
        "    null_df = train_df.copy()\n",
        "    null_df = insert_null_values_with_percentage(null_df, p)\n",
        "    print(count_null_values(null_df))\n",
        "    null_df.to_csv(f'{datasets_path}/Train_{p}.csv', index=False)\n",
        "\n",
        "def create_mixed_values(percentage, input_path, datasets_path):\n",
        "  for p in percentage:\n",
        "    out_df = pd.read_csv(f'{input_path}/Train_{p}.csv')\n",
        "    out_df = insert_null_values_with_percentage(out_df, p)\n",
        "    out_df.to_csv(f'{datasets_path}/Train_{p}.csv', index=False)\n",
        "    print(count_outliers(out_df))\n",
        "    print(count_null_values(out_df))"
      ],
      "metadata": {
        "id": "oY-J-vhV0xci"
      },
      "execution_count": null,
      "outputs": []
    },
    {
      "cell_type": "code",
      "source": [
        "def autoML_with_percentage(percentage, datasets_path):\n",
        "    h2o.init(max_mem_size=\"16g\")\n",
        "    train = h2o.import_file(f\"/content/Train.csv\")\n",
        "    test = h2o.import_file(\"/content/Test.csv\")\n",
        "\n",
        "    x = train.columns\n",
        "    y = \"Reached.on.Time_Y.N\"\n",
        "    x.remove(y)\n",
        "\n",
        "    train[y] = train[y].asfactor()\n",
        "    test[y] = test[y].asfactor()\n",
        "\n",
        "    aml = H2OAutoML(max_models=2, seed=1, include_algos=[\"GLM\", \"DeepLearning\"])\n",
        "    aml.train(x=x, y=y, training_frame=train)\n",
        "\n",
        "    lb = aml.leaderboard\n",
        "    print(lb.head(rows=lb.nrows))\n",
        "\n",
        "    with open(f\"{datasets_path}/leaderboard.txt\", \"a\") as file:\n",
        "        file.write(f\"Normal train\\n\")\n",
        "        file.write(lb.as_data_frame().to_string())\n",
        "\n",
        "    for p in percentage:\n",
        "        train = h2o.import_file(f\"{datasets_path}/Train_{p}.csv\")\n",
        "        test = h2o.import_file(\"/content/Test.csv\")\n",
        "\n",
        "        x = train.columns\n",
        "        y = \"Reached.on.Time_Y.N\"\n",
        "        x.remove(y)\n",
        "\n",
        "        train[y] = train[y].asfactor()\n",
        "        test[y] = test[y].asfactor()\n",
        "        aml = H2OAutoML(max_models=2, seed=1, include_algos=[\"GLM\", \"DeepLearning\"])\n",
        "        aml.train(x=x, y=y, training_frame=train)\n",
        "\n",
        "        lb = aml.leaderboard\n",
        "        print(lb.head(rows=lb.nrows))\n",
        "\n",
        "        with open(f\"{datasets_path}/leaderboard.txt\", \"a\") as file:\n",
        "            file.write(f\"\\n\\nPercentage of outliers: {p}\\n\")\n",
        "            file.write(lb.as_data_frame().to_string())\n"
      ],
      "metadata": {
        "id": "W0ZWqAYN55CG"
      },
      "execution_count": null,
      "outputs": []
    },
    {
      "cell_type": "markdown",
      "source": [
        "Creo le cartelle dove andrò a riportare i **dataset** e i **risultati** della funzione di autoML"
      ],
      "metadata": {
        "id": "3g2YqCGCZoyP"
      }
    },
    {
      "cell_type": "code",
      "source": [
        "!mkdir only_outliers\n",
        "!mkdir only_null_values\n",
        "!mkdir mixed_values"
      ],
      "metadata": {
        "id": "09jOMogRKZ8X"
      },
      "execution_count": null,
      "outputs": []
    },
    {
      "cell_type": "markdown",
      "source": [
        "## Esperimento 1: Allenamento con soli outliers\n"
      ],
      "metadata": {
        "id": "vLoFKUlMHFNG"
      }
    },
    {
      "cell_type": "code",
      "source": [
        "percentage = [0.05, 0.10, 0.15, 0.20]\n",
        "datasets_path = \"/content/only_outliers\"\n",
        "\n",
        "create_dataset_with_outliers(percentage, datasets_path)\n",
        "autoML_with_percentage(percentage, datasets_path)"
      ],
      "metadata": {
        "colab": {
          "base_uri": "https://localhost:8080/",
          "height": 1000
        },
        "id": "mv_XnfS0BXrO",
        "outputId": "e8fa0cbc-d104-4613-800f-8117cd3ccc75"
      },
      "execution_count": null,
      "outputs": [
        {
          "output_type": "stream",
          "name": "stdout",
          "text": [
            "Percentage of outliers: 0.05\n",
            "Warehouse_block        int64\n",
            "Mode_of_Shipment       int64\n",
            "Customer_care_calls    int64\n",
            "Customer_rating        int64\n",
            "Cost_of_the_Product    int64\n",
            "Prior_purchases        int64\n",
            "Product_importance     int64\n",
            "Gender                 int64\n",
            "Discount_offered       int64\n",
            "Weight_in_gms          int64\n",
            "Reached.on.Time_Y.N    int64\n",
            "dtype: object\n",
            "{'Warehouse_block': 417, 'Mode_of_Shipment': 431, 'Customer_care_calls': 435, 'Customer_rating': 427, 'Cost_of_the_Product': 436, 'Prior_purchases': 1204, 'Product_importance': 432, 'Gender': 400, 'Discount_offered': 1921, 'Weight_in_gms': 432, 'Reached.on.Time_Y.N': 0, 'Total': 6535}\n",
            "Percentage of outliers: 0.1\n",
            "Warehouse_block        int64\n",
            "Mode_of_Shipment       int64\n",
            "Customer_care_calls    int64\n",
            "Customer_rating        int64\n",
            "Cost_of_the_Product    int64\n",
            "Prior_purchases        int64\n",
            "Product_importance     int64\n",
            "Gender                 int64\n",
            "Discount_offered       int64\n",
            "Weight_in_gms          int64\n",
            "Reached.on.Time_Y.N    int64\n",
            "dtype: object\n",
            "{'Warehouse_block': 844, 'Mode_of_Shipment': 858, 'Customer_care_calls': 865, 'Customer_rating': 853, 'Cost_of_the_Product': 868, 'Prior_purchases': 1035, 'Product_importance': 864, 'Gender': 833, 'Discount_offered': 1846, 'Weight_in_gms': 860, 'Reached.on.Time_Y.N': 0, 'Total': 9726}\n",
            "Percentage of outliers: 0.15\n",
            "Warehouse_block        int64\n",
            "Mode_of_Shipment       int64\n",
            "Customer_care_calls    int64\n",
            "Customer_rating        int64\n",
            "Cost_of_the_Product    int64\n",
            "Prior_purchases        int64\n",
            "Product_importance     int64\n",
            "Gender                 int64\n",
            "Discount_offered       int64\n",
            "Weight_in_gms          int64\n",
            "Reached.on.Time_Y.N    int64\n",
            "dtype: object\n",
            "{'Warehouse_block': 1263, 'Mode_of_Shipment': 1286, 'Customer_care_calls': 1287, 'Customer_rating': 1291, 'Cost_of_the_Product': 1293, 'Prior_purchases': 1323, 'Product_importance': 1291, 'Gender': 1233, 'Discount_offered': 1639, 'Weight_in_gms': 1297, 'Reached.on.Time_Y.N': 0, 'Total': 13203}\n",
            "Percentage of outliers: 0.2\n",
            "Warehouse_block        int64\n",
            "Mode_of_Shipment       int64\n",
            "Customer_care_calls    int64\n",
            "Customer_rating        int64\n",
            "Cost_of_the_Product    int64\n",
            "Prior_purchases        int64\n",
            "Product_importance     int64\n",
            "Gender                 int64\n",
            "Discount_offered       int64\n",
            "Weight_in_gms          int64\n",
            "Reached.on.Time_Y.N    int64\n",
            "dtype: object\n",
            "{'Warehouse_block': 1696, 'Mode_of_Shipment': 1717, 'Customer_care_calls': 1737, 'Customer_rating': 1645, 'Cost_of_the_Product': 1734, 'Prior_purchases': 1722, 'Product_importance': 1716, 'Gender': 1651, 'Discount_offered': 1454, 'Weight_in_gms': 1726, 'Reached.on.Time_Y.N': 0, 'Total': 16798}\n",
            "Checking whether there is an H2O instance running at http://localhost:54321..... not found.\n",
            "Attempting to start a local H2O server...\n",
            "  Java Version: openjdk version \"11.0.23\" 2024-04-16; OpenJDK Runtime Environment (build 11.0.23+9-post-Ubuntu-1ubuntu122.04.1); OpenJDK 64-Bit Server VM (build 11.0.23+9-post-Ubuntu-1ubuntu122.04.1, mixed mode, sharing)\n",
            "  Starting server from /usr/local/lib/python3.10/dist-packages/h2o/backend/bin/h2o.jar\n",
            "  Ice root: /tmp/tmp7qym55ig\n",
            "  JVM stdout: /tmp/tmp7qym55ig/h2o_unknownUser_started_from_python.out\n",
            "  JVM stderr: /tmp/tmp7qym55ig/h2o_unknownUser_started_from_python.err\n",
            "  Server is running at http://127.0.0.1:54321\n",
            "Connecting to H2O server at http://127.0.0.1:54321 ... successful.\n"
          ]
        },
        {
          "output_type": "display_data",
          "data": {
            "text/plain": [
              "--------------------------  -----------------------------------------------------------------------------------------\n",
              "H2O_cluster_uptime:         03 secs\n",
              "H2O_cluster_timezone:       Etc/UTC\n",
              "H2O_data_parsing_timezone:  UTC\n",
              "H2O_cluster_version:        3.46.0.3\n",
              "H2O_cluster_version_age:    4 days\n",
              "H2O_cluster_name:           H2O_from_python_unknownUser_6qqshh\n",
              "H2O_cluster_total_nodes:    1\n",
              "H2O_cluster_free_memory:    16 Gb\n",
              "H2O_cluster_total_cores:    2\n",
              "H2O_cluster_allowed_cores:  2\n",
              "H2O_cluster_status:         locked, healthy\n",
              "H2O_connection_url:         http://127.0.0.1:54321\n",
              "H2O_connection_proxy:       {\"http\": null, \"https\": null, \"colab_language_server\": \"/usr/colab/bin/language_service\"}\n",
              "H2O_internal_security:      False\n",
              "Python_version:             3.10.12 final\n",
              "--------------------------  -----------------------------------------------------------------------------------------"
            ],
            "text/html": [
              "\n",
              "<style>\n",
              "\n",
              "#h2o-table-1.h2o-container {\n",
              "  overflow-x: auto;\n",
              "}\n",
              "#h2o-table-1 .h2o-table {\n",
              "  /* width: 100%; */\n",
              "  margin-top: 1em;\n",
              "  margin-bottom: 1em;\n",
              "}\n",
              "#h2o-table-1 .h2o-table caption {\n",
              "  white-space: nowrap;\n",
              "  caption-side: top;\n",
              "  text-align: left;\n",
              "  /* margin-left: 1em; */\n",
              "  margin: 0;\n",
              "  font-size: larger;\n",
              "}\n",
              "#h2o-table-1 .h2o-table thead {\n",
              "  white-space: nowrap; \n",
              "  position: sticky;\n",
              "  top: 0;\n",
              "  box-shadow: 0 -1px inset;\n",
              "}\n",
              "#h2o-table-1 .h2o-table tbody {\n",
              "  overflow: auto;\n",
              "}\n",
              "#h2o-table-1 .h2o-table th,\n",
              "#h2o-table-1 .h2o-table td {\n",
              "  text-align: right;\n",
              "  /* border: 1px solid; */\n",
              "}\n",
              "#h2o-table-1 .h2o-table tr:nth-child(even) {\n",
              "  /* background: #F5F5F5 */\n",
              "}\n",
              "\n",
              "</style>      \n",
              "<div id=\"h2o-table-1\" class=\"h2o-container\">\n",
              "  <table class=\"h2o-table\">\n",
              "    <caption></caption>\n",
              "    <thead></thead>\n",
              "    <tbody><tr><td>H2O_cluster_uptime:</td>\n",
              "<td>03 secs</td></tr>\n",
              "<tr><td>H2O_cluster_timezone:</td>\n",
              "<td>Etc/UTC</td></tr>\n",
              "<tr><td>H2O_data_parsing_timezone:</td>\n",
              "<td>UTC</td></tr>\n",
              "<tr><td>H2O_cluster_version:</td>\n",
              "<td>3.46.0.3</td></tr>\n",
              "<tr><td>H2O_cluster_version_age:</td>\n",
              "<td>4 days</td></tr>\n",
              "<tr><td>H2O_cluster_name:</td>\n",
              "<td>H2O_from_python_unknownUser_6qqshh</td></tr>\n",
              "<tr><td>H2O_cluster_total_nodes:</td>\n",
              "<td>1</td></tr>\n",
              "<tr><td>H2O_cluster_free_memory:</td>\n",
              "<td>16 Gb</td></tr>\n",
              "<tr><td>H2O_cluster_total_cores:</td>\n",
              "<td>2</td></tr>\n",
              "<tr><td>H2O_cluster_allowed_cores:</td>\n",
              "<td>2</td></tr>\n",
              "<tr><td>H2O_cluster_status:</td>\n",
              "<td>locked, healthy</td></tr>\n",
              "<tr><td>H2O_connection_url:</td>\n",
              "<td>http://127.0.0.1:54321</td></tr>\n",
              "<tr><td>H2O_connection_proxy:</td>\n",
              "<td>{\"http\": null, \"https\": null, \"colab_language_server\": \"/usr/colab/bin/language_service\"}</td></tr>\n",
              "<tr><td>H2O_internal_security:</td>\n",
              "<td>False</td></tr>\n",
              "<tr><td>Python_version:</td>\n",
              "<td>3.10.12 final</td></tr></tbody>\n",
              "  </table>\n",
              "</div>\n"
            ]
          },
          "metadata": {}
        },
        {
          "output_type": "stream",
          "name": "stdout",
          "text": [
            "Parse progress: |████████████████████████████████████████████████████████████████| (done) 100%\n",
            "Parse progress: |████████████████████████████████████████████████████████████████| (done) 100%\n",
            "AutoML progress: |███████████████████████████████████████████████████████████████| (done) 100%\n",
            "model_id                                     auc    logloss     aucpr    mean_per_class_error      rmse       mse\n",
            "DeepLearning_1_AutoML_1_20240616_81534  0.747392   0.512462  0.856259                0.499887  0.429638  0.184589\n",
            "GLM_1_AutoML_1_20240616_81534           0.739519   0.53302   0.851551                0.49929   0.435129  0.189337\n",
            "[2 rows x 7 columns]\n",
            "\n",
            "Parse progress: |"
          ]
        },
        {
          "output_type": "stream",
          "name": "stderr",
          "text": [
            "/usr/local/lib/python3.10/dist-packages/h2o/frame.py:1981: H2ODependencyWarning: Converting H2O frame to pandas dataframe using single-thread.  For faster conversion using multi-thread, install polars and pyarrow and use it as pandas_df = h2o_df.as_data_frame(use_multi_thread=True)\n",
            "\n",
            "  warnings.warn(\"Converting H2O frame to pandas dataframe using single-thread.  For faster conversion using\"\n"
          ]
        },
        {
          "output_type": "stream",
          "name": "stdout",
          "text": [
            "████████████████████████████████████████████████████████████████| (done) 100%\n",
            "Parse progress: |████████████████████████████████████████████████████████████████| (done) 100%\n",
            "AutoML progress: |███████████████████████████████████████████████████████████████| (done) 100%\n",
            "model_id                                     auc    logloss     aucpr    mean_per_class_error      rmse       mse\n",
            "DeepLearning_1_AutoML_2_20240616_81601  0.662407   0.641073  0.753854                0.499719  0.475241  0.225854\n",
            "GLM_1_AutoML_2_20240616_81601           0.542064   0.674529  0.617493                0.49986   0.490653  0.24074\n",
            "[2 rows x 7 columns]\n",
            "\n",
            "Parse progress: |"
          ]
        },
        {
          "output_type": "stream",
          "name": "stderr",
          "text": [
            "/usr/local/lib/python3.10/dist-packages/h2o/frame.py:1981: H2ODependencyWarning: Converting H2O frame to pandas dataframe using single-thread.  For faster conversion using multi-thread, install polars and pyarrow and use it as pandas_df = h2o_df.as_data_frame(use_multi_thread=True)\n",
            "\n",
            "  warnings.warn(\"Converting H2O frame to pandas dataframe using single-thread.  For faster conversion using\"\n"
          ]
        },
        {
          "output_type": "stream",
          "name": "stdout",
          "text": [
            "████████████████████████████████████████████████████████████████| (done) 100%\n",
            "Parse progress: |████████████████████████████████████████████████████████████████| (done) 100%\n",
            "AutoML progress: |███████████████████████████████████████████████████████████████| (done) 100%\n",
            "model_id                                     auc    logloss     aucpr    mean_per_class_error      rmse       mse\n",
            "DeepLearning_1_AutoML_3_20240616_81614  0.600103   0.665114  0.676253                     0.5  0.485849  0.236049\n",
            "GLM_1_AutoML_3_20240616_81614           0.511549   0.674821  0.598548                     0.5  0.490808  0.240893\n",
            "[2 rows x 7 columns]\n",
            "\n",
            "Parse progress: |"
          ]
        },
        {
          "output_type": "stream",
          "name": "stderr",
          "text": [
            "/usr/local/lib/python3.10/dist-packages/h2o/frame.py:1981: H2ODependencyWarning: Converting H2O frame to pandas dataframe using single-thread.  For faster conversion using multi-thread, install polars and pyarrow and use it as pandas_df = h2o_df.as_data_frame(use_multi_thread=True)\n",
            "\n",
            "  warnings.warn(\"Converting H2O frame to pandas dataframe using single-thread.  For faster conversion using\"\n"
          ]
        },
        {
          "output_type": "stream",
          "name": "stdout",
          "text": [
            "████████████████████████████████████████████████████████████████| (done) 100%\n",
            "Parse progress: |████████████████████████████████████████████████████████████████| (done) 100%\n",
            "AutoML progress: |███████████████████████████████████████████████████████████████| (done) 100%\n",
            "model_id                                     auc    logloss     aucpr    mean_per_class_error      rmse       mse\n",
            "DeepLearning_1_AutoML_4_20240616_81628  0.526857   0.681733  0.613221                0.5       0.493824  0.243862\n",
            "GLM_1_AutoML_4_20240616_81628           0.485521   0.675176  0.576673                0.499719  0.490983  0.241064\n",
            "[2 rows x 7 columns]\n",
            "\n",
            "Parse progress: |"
          ]
        },
        {
          "output_type": "stream",
          "name": "stderr",
          "text": [
            "/usr/local/lib/python3.10/dist-packages/h2o/frame.py:1981: H2ODependencyWarning: Converting H2O frame to pandas dataframe using single-thread.  For faster conversion using multi-thread, install polars and pyarrow and use it as pandas_df = h2o_df.as_data_frame(use_multi_thread=True)\n",
            "\n",
            "  warnings.warn(\"Converting H2O frame to pandas dataframe using single-thread.  For faster conversion using\"\n"
          ]
        },
        {
          "output_type": "stream",
          "name": "stdout",
          "text": [
            "████████████████████████████████████████████████████████████████| (done) 100%\n",
            "Parse progress: |████████████████████████████████████████████████████████████████| (done) 100%\n",
            "AutoML progress: |███████████████████████████████████████████████████████████████| (done) 100%\n",
            "model_id                                     auc    logloss     aucpr    mean_per_class_error      rmse       mse\n",
            "DeepLearning_1_AutoML_5_20240616_81640  0.524586   0.681696  0.612851                0.499253  0.493991  0.244027\n",
            "GLM_1_AutoML_5_20240616_81640           0.484905   0.67509   0.57582                 0.499719  0.490941  0.241023\n",
            "[2 rows x 7 columns]\n",
            "\n"
          ]
        },
        {
          "output_type": "stream",
          "name": "stderr",
          "text": [
            "/usr/local/lib/python3.10/dist-packages/h2o/frame.py:1981: H2ODependencyWarning: Converting H2O frame to pandas dataframe using single-thread.  For faster conversion using multi-thread, install polars and pyarrow and use it as pandas_df = h2o_df.as_data_frame(use_multi_thread=True)\n",
            "\n",
            "  warnings.warn(\"Converting H2O frame to pandas dataframe using single-thread.  For faster conversion using\"\n"
          ]
        }
      ]
    },
    {
      "cell_type": "markdown",
      "source": [
        "## Esperimento 2: Allenamento con soli valori nulli\n"
      ],
      "metadata": {
        "id": "LVIxkxHyHKP6"
      }
    },
    {
      "cell_type": "code",
      "source": [
        "percentage = [0.05, 0.10, 0.15, 0.20]\n",
        "datasets_path = \"/content/only_null_values\"\n",
        "\n",
        "create_dataset_with_null(percentage, datasets_path)\n",
        "autoML_with_percentage(percentage, datasets_path)"
      ],
      "metadata": {
        "colab": {
          "base_uri": "https://localhost:8080/",
          "height": 1000
        },
        "id": "AWq8ecK8HJgT",
        "outputId": "014da64b-5d45-4e28-917a-9815c331e109"
      },
      "execution_count": null,
      "outputs": [
        {
          "output_type": "stream",
          "name": "stdout",
          "text": [
            "Percentage of null values: 0.05\n",
            "{'Warehouse_block': 439, 'Mode_of_Shipment': 439, 'Customer_care_calls': 439, 'Customer_rating': 439, 'Cost_of_the_Product': 439, 'Prior_purchases': 399, 'Product_importance': 439, 'Gender': 439, 'Discount_offered': 351, 'Weight_in_gms': 439, 'Reached.on.Time_Y.N': 0, 'Total': 4262}\n",
            "Percentage of null values: 0.1\n",
            "{'Warehouse_block': 879, 'Mode_of_Shipment': 879, 'Customer_care_calls': 879, 'Customer_rating': 879, 'Cost_of_the_Product': 879, 'Prior_purchases': 799, 'Product_importance': 879, 'Gender': 879, 'Discount_offered': 702, 'Weight_in_gms': 879, 'Reached.on.Time_Y.N': 0, 'Total': 8533}\n",
            "Percentage of null values: 0.15\n",
            "{'Warehouse_block': 1319, 'Mode_of_Shipment': 1319, 'Customer_care_calls': 1319, 'Customer_rating': 1319, 'Cost_of_the_Product': 1319, 'Prior_purchases': 1199, 'Product_importance': 1319, 'Gender': 1319, 'Discount_offered': 1053, 'Weight_in_gms': 1319, 'Reached.on.Time_Y.N': 0, 'Total': 12804}\n",
            "Percentage of null values: 0.2\n",
            "{'Warehouse_block': 1759, 'Mode_of_Shipment': 1759, 'Customer_care_calls': 1759, 'Customer_rating': 1759, 'Cost_of_the_Product': 1759, 'Prior_purchases': 1598, 'Product_importance': 1759, 'Gender': 1759, 'Discount_offered': 1404, 'Weight_in_gms': 1759, 'Reached.on.Time_Y.N': 0, 'Total': 17074}\n",
            "Checking whether there is an H2O instance running at http://localhost:54321. connected.\n"
          ]
        },
        {
          "output_type": "display_data",
          "data": {
            "text/plain": [
              "--------------------------  -----------------------------------------------------------------------------------------\n",
              "H2O_cluster_uptime:         2 mins 03 secs\n",
              "H2O_cluster_timezone:       Etc/UTC\n",
              "H2O_data_parsing_timezone:  UTC\n",
              "H2O_cluster_version:        3.46.0.3\n",
              "H2O_cluster_version_age:    4 days\n",
              "H2O_cluster_name:           H2O_from_python_unknownUser_6qqshh\n",
              "H2O_cluster_total_nodes:    1\n",
              "H2O_cluster_free_memory:    16.00 Gb\n",
              "H2O_cluster_total_cores:    2\n",
              "H2O_cluster_allowed_cores:  2\n",
              "H2O_cluster_status:         locked, healthy\n",
              "H2O_connection_url:         http://localhost:54321\n",
              "H2O_connection_proxy:       {\"http\": null, \"https\": null, \"colab_language_server\": \"/usr/colab/bin/language_service\"}\n",
              "H2O_internal_security:      False\n",
              "Python_version:             3.10.12 final\n",
              "--------------------------  -----------------------------------------------------------------------------------------"
            ],
            "text/html": [
              "\n",
              "<style>\n",
              "\n",
              "#h2o-table-2.h2o-container {\n",
              "  overflow-x: auto;\n",
              "}\n",
              "#h2o-table-2 .h2o-table {\n",
              "  /* width: 100%; */\n",
              "  margin-top: 1em;\n",
              "  margin-bottom: 1em;\n",
              "}\n",
              "#h2o-table-2 .h2o-table caption {\n",
              "  white-space: nowrap;\n",
              "  caption-side: top;\n",
              "  text-align: left;\n",
              "  /* margin-left: 1em; */\n",
              "  margin: 0;\n",
              "  font-size: larger;\n",
              "}\n",
              "#h2o-table-2 .h2o-table thead {\n",
              "  white-space: nowrap; \n",
              "  position: sticky;\n",
              "  top: 0;\n",
              "  box-shadow: 0 -1px inset;\n",
              "}\n",
              "#h2o-table-2 .h2o-table tbody {\n",
              "  overflow: auto;\n",
              "}\n",
              "#h2o-table-2 .h2o-table th,\n",
              "#h2o-table-2 .h2o-table td {\n",
              "  text-align: right;\n",
              "  /* border: 1px solid; */\n",
              "}\n",
              "#h2o-table-2 .h2o-table tr:nth-child(even) {\n",
              "  /* background: #F5F5F5 */\n",
              "}\n",
              "\n",
              "</style>      \n",
              "<div id=\"h2o-table-2\" class=\"h2o-container\">\n",
              "  <table class=\"h2o-table\">\n",
              "    <caption></caption>\n",
              "    <thead></thead>\n",
              "    <tbody><tr><td>H2O_cluster_uptime:</td>\n",
              "<td>2 mins 03 secs</td></tr>\n",
              "<tr><td>H2O_cluster_timezone:</td>\n",
              "<td>Etc/UTC</td></tr>\n",
              "<tr><td>H2O_data_parsing_timezone:</td>\n",
              "<td>UTC</td></tr>\n",
              "<tr><td>H2O_cluster_version:</td>\n",
              "<td>3.46.0.3</td></tr>\n",
              "<tr><td>H2O_cluster_version_age:</td>\n",
              "<td>4 days</td></tr>\n",
              "<tr><td>H2O_cluster_name:</td>\n",
              "<td>H2O_from_python_unknownUser_6qqshh</td></tr>\n",
              "<tr><td>H2O_cluster_total_nodes:</td>\n",
              "<td>1</td></tr>\n",
              "<tr><td>H2O_cluster_free_memory:</td>\n",
              "<td>16.00 Gb</td></tr>\n",
              "<tr><td>H2O_cluster_total_cores:</td>\n",
              "<td>2</td></tr>\n",
              "<tr><td>H2O_cluster_allowed_cores:</td>\n",
              "<td>2</td></tr>\n",
              "<tr><td>H2O_cluster_status:</td>\n",
              "<td>locked, healthy</td></tr>\n",
              "<tr><td>H2O_connection_url:</td>\n",
              "<td>http://localhost:54321</td></tr>\n",
              "<tr><td>H2O_connection_proxy:</td>\n",
              "<td>{\"http\": null, \"https\": null, \"colab_language_server\": \"/usr/colab/bin/language_service\"}</td></tr>\n",
              "<tr><td>H2O_internal_security:</td>\n",
              "<td>False</td></tr>\n",
              "<tr><td>Python_version:</td>\n",
              "<td>3.10.12 final</td></tr></tbody>\n",
              "  </table>\n",
              "</div>\n"
            ]
          },
          "metadata": {}
        },
        {
          "output_type": "stream",
          "name": "stdout",
          "text": [
            "Parse progress: |████████████████████████████████████████████████████████████████| (done) 100%\n",
            "Parse progress: |████████████████████████████████████████████████████████████████| (done) 100%\n",
            "AutoML progress: |███████████████████████████████████████████████████████████████| (done) 100%\n",
            "model_id                                     auc    logloss     aucpr    mean_per_class_error      rmse       mse\n",
            "GLM_1_AutoML_6_20240616_81732           0.739519   0.53302   0.851551                0.49929   0.435129  0.189337\n",
            "DeepLearning_1_AutoML_6_20240616_81732  0.737621   0.514101  0.851402                0.498398  0.430449  0.185287\n",
            "[2 rows x 7 columns]\n",
            "\n",
            "Parse progress: |"
          ]
        },
        {
          "output_type": "stream",
          "name": "stderr",
          "text": [
            "/usr/local/lib/python3.10/dist-packages/h2o/frame.py:1981: H2ODependencyWarning: Converting H2O frame to pandas dataframe using single-thread.  For faster conversion using multi-thread, install polars and pyarrow and use it as pandas_df = h2o_df.as_data_frame(use_multi_thread=True)\n",
            "\n",
            "  warnings.warn(\"Converting H2O frame to pandas dataframe using single-thread.  For faster conversion using\"\n"
          ]
        },
        {
          "output_type": "stream",
          "name": "stdout",
          "text": [
            "████████████████████████████████████████████████████████████████| (done) 100%\n",
            "Parse progress: |████████████████████████████████████████████████████████████████| (done) 100%\n",
            "AutoML progress: |███████████████████████████████████████████████████████████████| (done) 100%\n",
            "model_id                                     auc    logloss     aucpr    mean_per_class_error      rmse       mse\n",
            "GLM_1_AutoML_7_20240616_81748           0.72324     0.54941  0.837204                 0.49763  0.442235  0.195572\n",
            "DeepLearning_1_AutoML_7_20240616_81748  0.720219    0.5442   0.835995                 0.5      0.441905  0.19528\n",
            "[2 rows x 7 columns]\n",
            "\n",
            "Parse progress: |"
          ]
        },
        {
          "output_type": "stream",
          "name": "stderr",
          "text": [
            "/usr/local/lib/python3.10/dist-packages/h2o/frame.py:1981: H2ODependencyWarning: Converting H2O frame to pandas dataframe using single-thread.  For faster conversion using multi-thread, install polars and pyarrow and use it as pandas_df = h2o_df.as_data_frame(use_multi_thread=True)\n",
            "\n",
            "  warnings.warn(\"Converting H2O frame to pandas dataframe using single-thread.  For faster conversion using\"\n"
          ]
        },
        {
          "output_type": "stream",
          "name": "stdout",
          "text": [
            "████████████████████████████████████████████████████████████████| (done) 100%\n",
            "Parse progress: |████████████████████████████████████████████████████████████████| (done) 100%\n",
            "AutoML progress: |███████████████████████████████████████████████████████████████| (done) 100%\n",
            "model_id                                    auc    logloss     aucpr    mean_per_class_error      rmse       mse\n",
            "GLM_1_AutoML_8_20240616_81802           0.72119   0.554243  0.83596                 0.495136  0.44389   0.197038\n",
            "DeepLearning_1_AutoML_8_20240616_81802  0.71843   0.550427  0.834239                0.49986   0.444858  0.197899\n",
            "[2 rows x 7 columns]\n",
            "\n",
            "Parse progress: |"
          ]
        },
        {
          "output_type": "stream",
          "name": "stderr",
          "text": [
            "/usr/local/lib/python3.10/dist-packages/h2o/frame.py:1981: H2ODependencyWarning: Converting H2O frame to pandas dataframe using single-thread.  For faster conversion using multi-thread, install polars and pyarrow and use it as pandas_df = h2o_df.as_data_frame(use_multi_thread=True)\n",
            "\n",
            "  warnings.warn(\"Converting H2O frame to pandas dataframe using single-thread.  For faster conversion using\"\n"
          ]
        },
        {
          "output_type": "stream",
          "name": "stdout",
          "text": [
            "████████████████████████████████████████████████████████████████| (done) 100%\n",
            "Parse progress: |████████████████████████████████████████████████████████████████| (done) 100%\n",
            "AutoML progress: |███████████████████████████████████████████████████████████████| (done) 100%\n",
            "model_id                                     auc    logloss     aucpr    mean_per_class_error      rmse       mse\n",
            "GLM_1_AutoML_9_20240616_81815           0.721166   0.557702  0.834108                0.496883  0.445091  0.198106\n",
            "DeepLearning_1_AutoML_9_20240616_81815  0.711024   0.549838  0.83055                 0.498197  0.444038  0.19717\n",
            "[2 rows x 7 columns]\n",
            "\n",
            "Parse progress: |"
          ]
        },
        {
          "output_type": "stream",
          "name": "stderr",
          "text": [
            "/usr/local/lib/python3.10/dist-packages/h2o/frame.py:1981: H2ODependencyWarning: Converting H2O frame to pandas dataframe using single-thread.  For faster conversion using multi-thread, install polars and pyarrow and use it as pandas_df = h2o_df.as_data_frame(use_multi_thread=True)\n",
            "\n",
            "  warnings.warn(\"Converting H2O frame to pandas dataframe using single-thread.  For faster conversion using\"\n"
          ]
        },
        {
          "output_type": "stream",
          "name": "stdout",
          "text": [
            "████████████████████████████████████████████████████████████████| (done) 100%\n",
            "Parse progress: |████████████████████████████████████████████████████████████████| (done) 100%\n",
            "AutoML progress: |███████████████████████████████████████████████████████████████| (done) 100%\n",
            "model_id                                      auc    logloss    aucpr    mean_per_class_error      rmse       mse\n",
            "DeepLearning_1_AutoML_10_20240616_81830  0.71888    0.551335  0.83286                0.496849  0.444492  0.197573\n",
            "GLM_1_AutoML_10_20240616_81830           0.711843   0.565461  0.82902                0.497439  0.448251  0.200929\n",
            "[2 rows x 7 columns]\n",
            "\n"
          ]
        },
        {
          "output_type": "stream",
          "name": "stderr",
          "text": [
            "/usr/local/lib/python3.10/dist-packages/h2o/frame.py:1981: H2ODependencyWarning: Converting H2O frame to pandas dataframe using single-thread.  For faster conversion using multi-thread, install polars and pyarrow and use it as pandas_df = h2o_df.as_data_frame(use_multi_thread=True)\n",
            "\n",
            "  warnings.warn(\"Converting H2O frame to pandas dataframe using single-thread.  For faster conversion using\"\n"
          ]
        }
      ]
    },
    {
      "cell_type": "markdown",
      "source": [
        "## Esperimento 3: Allenamento con valori misti\n"
      ],
      "metadata": {
        "id": "Bb0jmauoHX5_"
      }
    },
    {
      "cell_type": "code",
      "source": [
        "percentage = [0.05, 0.10, 0.15, 0.20]\n",
        "datasets_path = \"/content/mixed_values\"\n",
        "input_path = \"/content/only_outliers\"\n",
        "\n",
        "create_mixed_values(percentage, input_path, datasets_path)\n",
        "autoML_with_percentage(percentage, datasets_path)"
      ],
      "metadata": {
        "colab": {
          "base_uri": "https://localhost:8080/",
          "height": 1000
        },
        "id": "rG91kfYwHWio",
        "outputId": "3aba741b-1b85-4c4d-a785-4baf952ceeef"
      },
      "execution_count": null,
      "outputs": [
        {
          "output_type": "stream",
          "name": "stdout",
          "text": [
            "{'Warehouse_block': 417, 'Mode_of_Shipment': 431, 'Customer_care_calls': 435, 'Customer_rating': 427, 'Cost_of_the_Product': 436, 'Prior_purchases': 1204, 'Product_importance': 432, 'Gender': 400, 'Discount_offered': 1862, 'Weight_in_gms': 432, 'Reached.on.Time_Y.N': 0, 'Total': 6476}\n",
            "{'Warehouse_block': 419, 'Mode_of_Shipment': 418, 'Customer_care_calls': 418, 'Customer_rating': 418, 'Cost_of_the_Product': 418, 'Prior_purchases': 379, 'Product_importance': 418, 'Gender': 419, 'Discount_offered': 343, 'Weight_in_gms': 418, 'Reached.on.Time_Y.N': 0, 'Total': 4068}\n",
            "{'Warehouse_block': 844, 'Mode_of_Shipment': 858, 'Customer_care_calls': 865, 'Customer_rating': 853, 'Cost_of_the_Product': 868, 'Prior_purchases': 929, 'Product_importance': 864, 'Gender': 833, 'Discount_offered': 1536, 'Weight_in_gms': 860, 'Reached.on.Time_Y.N': 0, 'Total': 9310}\n",
            "{'Warehouse_block': 795, 'Mode_of_Shipment': 794, 'Customer_care_calls': 793, 'Customer_rating': 794, 'Cost_of_the_Product': 793, 'Prior_purchases': 776, 'Product_importance': 793, 'Gender': 796, 'Discount_offered': 695, 'Weight_in_gms': 793, 'Reached.on.Time_Y.N': 0, 'Total': 7822}\n",
            "{'Warehouse_block': 1263, 'Mode_of_Shipment': 1286, 'Customer_care_calls': 1287, 'Customer_rating': 1276, 'Cost_of_the_Product': 1292, 'Prior_purchases': 1323, 'Product_importance': 1291, 'Gender': 1233, 'Discount_offered': 1309, 'Weight_in_gms': 1296, 'Reached.on.Time_Y.N': 0, 'Total': 12856}\n",
            "{'Warehouse_block': 1130, 'Mode_of_Shipment': 1126, 'Customer_care_calls': 1126, 'Customer_rating': 1126, 'Cost_of_the_Product': 1125, 'Prior_purchases': 1121, 'Product_importance': 1126, 'Gender': 1134, 'Discount_offered': 1074, 'Weight_in_gms': 1125, 'Reached.on.Time_Y.N': 0, 'Total': 11213}\n",
            "{'Warehouse_block': 1696, 'Mode_of_Shipment': 1717, 'Customer_care_calls': 1737, 'Customer_rating': 1645, 'Cost_of_the_Product': 1731, 'Prior_purchases': 1722, 'Product_importance': 1716, 'Gender': 1651, 'Discount_offered': 1390, 'Weight_in_gms': 1724, 'Reached.on.Time_Y.N': 0, 'Total': 16729}\n",
            "{'Warehouse_block': 1420, 'Mode_of_Shipment': 1416, 'Customer_care_calls': 1412, 'Customer_rating': 1430, 'Cost_of_the_Product': 1413, 'Prior_purchases': 1415, 'Product_importance': 1416, 'Gender': 1429, 'Discount_offered': 1469, 'Weight_in_gms': 1414, 'Reached.on.Time_Y.N': 0, 'Total': 14234}\n",
            "Checking whether there is an H2O instance running at http://localhost:54321. connected.\n"
          ]
        },
        {
          "output_type": "display_data",
          "data": {
            "text/plain": [
              "--------------------------  -----------------------------------------------------------------------------------------\n",
              "H2O_cluster_uptime:         3 mins 46 secs\n",
              "H2O_cluster_timezone:       Etc/UTC\n",
              "H2O_data_parsing_timezone:  UTC\n",
              "H2O_cluster_version:        3.46.0.3\n",
              "H2O_cluster_version_age:    4 days\n",
              "H2O_cluster_name:           H2O_from_python_unknownUser_6qqshh\n",
              "H2O_cluster_total_nodes:    1\n",
              "H2O_cluster_free_memory:    15.99 Gb\n",
              "H2O_cluster_total_cores:    2\n",
              "H2O_cluster_allowed_cores:  2\n",
              "H2O_cluster_status:         locked, healthy\n",
              "H2O_connection_url:         http://localhost:54321\n",
              "H2O_connection_proxy:       {\"http\": null, \"https\": null, \"colab_language_server\": \"/usr/colab/bin/language_service\"}\n",
              "H2O_internal_security:      False\n",
              "Python_version:             3.10.12 final\n",
              "--------------------------  -----------------------------------------------------------------------------------------"
            ],
            "text/html": [
              "\n",
              "<style>\n",
              "\n",
              "#h2o-table-3.h2o-container {\n",
              "  overflow-x: auto;\n",
              "}\n",
              "#h2o-table-3 .h2o-table {\n",
              "  /* width: 100%; */\n",
              "  margin-top: 1em;\n",
              "  margin-bottom: 1em;\n",
              "}\n",
              "#h2o-table-3 .h2o-table caption {\n",
              "  white-space: nowrap;\n",
              "  caption-side: top;\n",
              "  text-align: left;\n",
              "  /* margin-left: 1em; */\n",
              "  margin: 0;\n",
              "  font-size: larger;\n",
              "}\n",
              "#h2o-table-3 .h2o-table thead {\n",
              "  white-space: nowrap; \n",
              "  position: sticky;\n",
              "  top: 0;\n",
              "  box-shadow: 0 -1px inset;\n",
              "}\n",
              "#h2o-table-3 .h2o-table tbody {\n",
              "  overflow: auto;\n",
              "}\n",
              "#h2o-table-3 .h2o-table th,\n",
              "#h2o-table-3 .h2o-table td {\n",
              "  text-align: right;\n",
              "  /* border: 1px solid; */\n",
              "}\n",
              "#h2o-table-3 .h2o-table tr:nth-child(even) {\n",
              "  /* background: #F5F5F5 */\n",
              "}\n",
              "\n",
              "</style>      \n",
              "<div id=\"h2o-table-3\" class=\"h2o-container\">\n",
              "  <table class=\"h2o-table\">\n",
              "    <caption></caption>\n",
              "    <thead></thead>\n",
              "    <tbody><tr><td>H2O_cluster_uptime:</td>\n",
              "<td>3 mins 46 secs</td></tr>\n",
              "<tr><td>H2O_cluster_timezone:</td>\n",
              "<td>Etc/UTC</td></tr>\n",
              "<tr><td>H2O_data_parsing_timezone:</td>\n",
              "<td>UTC</td></tr>\n",
              "<tr><td>H2O_cluster_version:</td>\n",
              "<td>3.46.0.3</td></tr>\n",
              "<tr><td>H2O_cluster_version_age:</td>\n",
              "<td>4 days</td></tr>\n",
              "<tr><td>H2O_cluster_name:</td>\n",
              "<td>H2O_from_python_unknownUser_6qqshh</td></tr>\n",
              "<tr><td>H2O_cluster_total_nodes:</td>\n",
              "<td>1</td></tr>\n",
              "<tr><td>H2O_cluster_free_memory:</td>\n",
              "<td>15.99 Gb</td></tr>\n",
              "<tr><td>H2O_cluster_total_cores:</td>\n",
              "<td>2</td></tr>\n",
              "<tr><td>H2O_cluster_allowed_cores:</td>\n",
              "<td>2</td></tr>\n",
              "<tr><td>H2O_cluster_status:</td>\n",
              "<td>locked, healthy</td></tr>\n",
              "<tr><td>H2O_connection_url:</td>\n",
              "<td>http://localhost:54321</td></tr>\n",
              "<tr><td>H2O_connection_proxy:</td>\n",
              "<td>{\"http\": null, \"https\": null, \"colab_language_server\": \"/usr/colab/bin/language_service\"}</td></tr>\n",
              "<tr><td>H2O_internal_security:</td>\n",
              "<td>False</td></tr>\n",
              "<tr><td>Python_version:</td>\n",
              "<td>3.10.12 final</td></tr></tbody>\n",
              "  </table>\n",
              "</div>\n"
            ]
          },
          "metadata": {}
        },
        {
          "output_type": "stream",
          "name": "stdout",
          "text": [
            "Parse progress: |████████████████████████████████████████████████████████████████| (done) 100%\n",
            "Parse progress: |████████████████████████████████████████████████████████████████| (done) 100%\n",
            "AutoML progress: |███████████████████████████████████████████████████████████████| (done) 100%\n",
            "model_id                                      auc    logloss     aucpr    mean_per_class_error      rmse       mse\n",
            "DeepLearning_1_AutoML_11_20240616_81914  0.742274   0.508256  0.854005                0.498843  0.427795  0.183008\n",
            "GLM_1_AutoML_11_20240616_81914           0.739519   0.53302   0.851551                0.49929   0.435129  0.189337\n",
            "[2 rows x 7 columns]\n",
            "\n"
          ]
        },
        {
          "output_type": "stream",
          "name": "stderr",
          "text": [
            "/usr/local/lib/python3.10/dist-packages/h2o/frame.py:1981: H2ODependencyWarning: Converting H2O frame to pandas dataframe using single-thread.  For faster conversion using multi-thread, install polars and pyarrow and use it as pandas_df = h2o_df.as_data_frame(use_multi_thread=True)\n",
            "\n",
            "  warnings.warn(\"Converting H2O frame to pandas dataframe using single-thread.  For faster conversion using\"\n"
          ]
        },
        {
          "output_type": "stream",
          "name": "stdout",
          "text": [
            "Parse progress: |████████████████████████████████████████████████████████████████| (done) 100%\n",
            "Parse progress: |████████████████████████████████████████████████████████████████| (done) 100%\n",
            "AutoML progress: |███████████████████████████████████████████████████████████████| (done) 100%\n",
            "model_id                                      auc    logloss     aucpr    mean_per_class_error      rmse       mse\n",
            "DeepLearning_1_AutoML_12_20240616_81930  0.674205   0.622406  0.775167                 0.49986  0.467395  0.218458\n",
            "GLM_1_AutoML_12_20240616_81930           0.541179   0.674545  0.616831                 0.49986  0.490661  0.240748\n",
            "[2 rows x 7 columns]\n",
            "\n",
            "Parse progress: |"
          ]
        },
        {
          "output_type": "stream",
          "name": "stderr",
          "text": [
            "/usr/local/lib/python3.10/dist-packages/h2o/frame.py:1981: H2ODependencyWarning: Converting H2O frame to pandas dataframe using single-thread.  For faster conversion using multi-thread, install polars and pyarrow and use it as pandas_df = h2o_df.as_data_frame(use_multi_thread=True)\n",
            "\n",
            "  warnings.warn(\"Converting H2O frame to pandas dataframe using single-thread.  For faster conversion using\"\n"
          ]
        },
        {
          "output_type": "stream",
          "name": "stdout",
          "text": [
            "████████████████████████████████████████████████████████████████| (done) 100%\n",
            "Parse progress: |████████████████████████████████████████████████████████████████| (done) 100%\n",
            "AutoML progress: |███████████████████████████████████████████████████████████████| (done) 100%\n",
            "model_id                                      auc    logloss     aucpr    mean_per_class_error      rmse      mse\n",
            "DeepLearning_1_AutoML_13_20240616_81942  0.575236   0.673592  0.649398                     0.5  0.489684  0.23979\n",
            "GLM_1_AutoML_13_20240616_81942           0.510974   0.674835  0.598282                     0.5  0.490815  0.2409\n",
            "[2 rows x 7 columns]\n",
            "\n",
            "Parse progress: |"
          ]
        },
        {
          "output_type": "stream",
          "name": "stderr",
          "text": [
            "/usr/local/lib/python3.10/dist-packages/h2o/frame.py:1981: H2ODependencyWarning: Converting H2O frame to pandas dataframe using single-thread.  For faster conversion using multi-thread, install polars and pyarrow and use it as pandas_df = h2o_df.as_data_frame(use_multi_thread=True)\n",
            "\n",
            "  warnings.warn(\"Converting H2O frame to pandas dataframe using single-thread.  For faster conversion using\"\n"
          ]
        },
        {
          "output_type": "stream",
          "name": "stdout",
          "text": [
            "████████████████████████████████████████████████████████████████| (done) 100%\n",
            "Parse progress: |████████████████████████████████████████████████████████████████| (done) 100%\n",
            "AutoML progress: |███████████████████████████████████████████████████████████████| (done) 100%\n",
            "model_id                                      auc    logloss     aucpr    mean_per_class_error      rmse       mse\n",
            "DeepLearning_1_AutoML_14_20240616_81953  0.538563   0.682245  0.620026                0.499534  0.493906  0.243943\n",
            "GLM_1_AutoML_14_20240616_81953           0.484286   0.675189  0.576182                0.49986   0.490989  0.24107\n",
            "[2 rows x 7 columns]\n",
            "\n",
            "Parse progress: |"
          ]
        },
        {
          "output_type": "stream",
          "name": "stderr",
          "text": [
            "/usr/local/lib/python3.10/dist-packages/h2o/frame.py:1981: H2ODependencyWarning: Converting H2O frame to pandas dataframe using single-thread.  For faster conversion using multi-thread, install polars and pyarrow and use it as pandas_df = h2o_df.as_data_frame(use_multi_thread=True)\n",
            "\n",
            "  warnings.warn(\"Converting H2O frame to pandas dataframe using single-thread.  For faster conversion using\"\n"
          ]
        },
        {
          "output_type": "stream",
          "name": "stdout",
          "text": [
            "████████████████████████████████████████████████████████████████| (done) 100%\n",
            "Parse progress: |████████████████████████████████████████████████████████████████| (done) 100%\n",
            "AutoML progress: |███████████████████████████████████████████████████████████████| (done) 100%\n",
            "model_id                                      auc    logloss     aucpr    mean_per_class_error      rmse       mse\n",
            "DeepLearning_1_AutoML_15_20240616_82002  0.523509   0.681676  0.609854                0.49986   0.494037  0.244073\n",
            "GLM_1_AutoML_15_20240616_82002           0.482891   0.675108  0.575069                0.499438  0.49095   0.241032\n",
            "[2 rows x 7 columns]\n",
            "\n"
          ]
        },
        {
          "output_type": "stream",
          "name": "stderr",
          "text": [
            "/usr/local/lib/python3.10/dist-packages/h2o/frame.py:1981: H2ODependencyWarning: Converting H2O frame to pandas dataframe using single-thread.  For faster conversion using multi-thread, install polars and pyarrow and use it as pandas_df = h2o_df.as_data_frame(use_multi_thread=True)\n",
            "\n",
            "  warnings.warn(\"Converting H2O frame to pandas dataframe using single-thread.  For faster conversion using\"\n"
          ]
        }
      ]
    }
  ]
}